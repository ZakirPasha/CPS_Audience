{
  "nbformat": 4,
  "nbformat_minor": 0,
  "metadata": {
    "kernelspec": {
      "display_name": "R",
      "language": "R",
      "name": "ir"
    },
    "language_info": {
      "codemirror_mode": "r",
      "file_extension": ".r",
      "mimetype": "text/x-r-source",
      "name": "R",
      "pygments_lexer": "r",
      "version": "3.5.1"
    },
    "colab": {
      "name": "FinalAudience_Notebook (1).ipynb",
      "provenance": []
    }
  },
  "cells": [
    {
      "cell_type": "code",
      "metadata": {
        "id": "9eEXO2kCBJuB",
        "colab_type": "code",
        "colab": {},
        "outputId": "e08cf1a6-4f0d-4493-9c98-494237d79296"
      },
      "source": [
        "#Reading in datasets and cleaning up column names\n",
        "\n",
        "library(tidyr)\n",
        "library(dplyr)\n",
        "library(\"readxl\")\n",
        "\n",
        "my_data <- read_excel(\"/dsa/home/zp2gz/jupyter/Untitled Folder/Demographics_LEPSPED_2020.xls\",sheet=\"Schools\")\n",
        "colnames(my_data) <- as.character(unlist(my_data[1,]))\n",
        "my_data = my_data[-1, ]\n",
        "schooldem <- my_data[-c(1), ]\n",
        "colnames(schooldem) <- c('Network','School_ID','School_Name','Total_Students','Number_of_Bilingual','Bilingual_Percentage',\n",
        "           'Number_of_SpED','SpED_Percentage','Free/Reduced_Lunch','Lunch_Percentage')\n",
        "schooldem$Bilingual_Percentage <- as.numeric(as.character(schooldem$Bilingual_Percentage))\n",
        "schooldem$SpED_Percentage <- as.numeric(as.character(schooldem$SpED_Percentage))\n",
        "schooldem$Lunch_Percentage <- as.numeric(as.character(schooldem$Lunch_Percentage))\n",
        "schooldem$Bilingual_Percentage <- schooldem$Bilingual_Percentage * 100\n",
        "schooldem$SpED_Percentage <- schooldem$SpED_Percentage * 100\n",
        "schooldem$Lunch_Percentage <- schooldem$Lunch_Percentage * 100\n",
        "\n",
        "my_data <- read_excel(\"/dsa/home/zp2gz/jupyter/Untitled Folder/Demographics_LEPSPED_2020.xls\",sheet=\"Networks\")\n",
        "colnames(my_data) <- as.character(unlist(my_data[1,]))\n",
        "my_data = my_data[-1, ]\n",
        "networkinfo <- my_data[-c(1), ]\n",
        "colnames(networkinfo) <- c('Network','Total','Number_of_Bilingual','Bilingual_Percentage',\n",
        "           'Number_of_SpED','SpED_Percentage','Free/Reduced_Lunch','Lunch_Percentage')\n",
        "\n",
        "\n",
        "df <- read_excel(\"/dsa/home/zp2gz/jupyter/Untitled Folder/Demographics_RacialEthnic_2020.xls\",sheet=\"Schools\")\n",
        "colnames(df) <- as.character(unlist(df[1,]))\n",
        "df = df[-1, ]\n",
        "df <- df[-c(1), ]\n",
        "colnames(df) <- c('Network','School_ID','School_Name','Total','White_No','White_Per','AA_No',\n",
        "                 'AA_Per','AsianPI_No','AsianPI_Per','NativeAmerican_No','NativeAmerican_Per',\n",
        "                 'Hispanic_No','Hispanic_Per','Multi_No','Multi_Per','Asian_No','Asian_Per','HawaiiPI_No',\n",
        "                 'HawaiiPI_Per','NA_No','NA_Per')\n",
        "df$White_Per <- as.numeric(as.character(df$White_Per))\n",
        "df$AA_Per <- as.numeric(as.character(df$AA_Per))\n",
        "df$AsianPI_Per <- as.numeric(as.character(df$AsianPI_Per))\n",
        "df$NativeAmerican_Per <- as.numeric(as.character(df$NativeAmerican_Per))\n",
        "df$Hispanic_Per <- as.numeric(as.character(df$Hispanic_Per))\n",
        "df$Multi_Per <- as.numeric(as.character(df$Multi_Per))\n",
        "df$Asian_Per <-as.numeric(as.character(df$Asian_Per))\n",
        "df$HawaiiPI_Per <- as.numeric(as.character(df$HawaiiPI_Per))\n",
        "df$NA_Per <- as.numeric(as.character(df$NA_Per))\n",
        "\n",
        "\n"
      ],
      "execution_count": null,
      "outputs": [
        {
          "output_type": "stream",
          "text": [
            "\n",
            "Attaching package: ‘dplyr’\n",
            "\n",
            "The following objects are masked from ‘package:stats’:\n",
            "\n",
            "    filter, lag\n",
            "\n",
            "The following objects are masked from ‘package:base’:\n",
            "\n",
            "    intersect, setdiff, setequal, union\n",
            "\n",
            "New names:\n",
            "* `` -> ...2\n",
            "* `` -> ...3\n",
            "* `` -> ...4\n",
            "* `` -> ...6\n",
            "* `` -> ...8\n",
            "* … and 1 more problem\n",
            "New names:\n",
            "* `` -> ...2\n",
            "* `` -> ...4\n",
            "* `` -> ...6\n",
            "* `` -> ...8\n",
            "New names:\n",
            "* `` -> ...2\n",
            "* `` -> ...3\n",
            "* `` -> ...4\n",
            "* `` -> ...6\n",
            "* `` -> ...8\n",
            "* … and 7 more problems\n"
          ],
          "name": "stderr"
        }
      ]
    },
    {
      "cell_type": "code",
      "metadata": {
        "id": "WibCNJ7CBJuF",
        "colab_type": "code",
        "colab": {}
      },
      "source": [
        "#grabbing only high schools from stats dataset\n",
        "highschools <- subset(schooldem, Network == 'Network 14'|\n",
        "                        Network == 'Network 15'|\n",
        "                        Network == 'Network 16'|\n",
        "                        Network == 'Network 17'|\n",
        "                        School_Name == 'Chicago Academy High School'|\n",
        "                        School_Name == 'Collins Academy High School'|\n",
        "                        School_Name == 'Orr Academy High School'|\n",
        "                        School_Name == 'Wendell Phillips Academy High School'|\n",
        "                        School_Name == 'Roald Amundsen High School'|\n",
        "                        School_Name == 'Back of the Yards IB HS'|\n",
        "                        School_Name == 'Chicago High School for Agricultural Sciences'|\n",
        "                        School_Name == 'Michele Clark Academic Prep Magnet High School'|\n",
        "                        School_Name == 'Infinity Math Science and Technology High School'|\n",
        "                        School_Name == 'William Jones College Preparatory High School'|\n",
        "                        School_Name == 'Benito Juarez Community Academy High School'|\n",
        "                        School_Name == 'Marine Leadership Academy at Ames'|\n",
        "                        School_Name == 'Northside College Preparatory High School'|\n",
        "                        School_Name == 'Walter Payton College Preparatory High School'|\n",
        "                        School_Name == 'Peace & Education Coalition HS'|\n",
        "                        School_Name == 'Phoenix Military Academy High School'|\n",
        "                        School_Name == 'Hyman G Rickover Naval Academy High School'|\n",
        "                        School_Name == 'Southside Occupational Academy High School'|\n",
        "                        School_Name == 'Whitney M Young Magnet High School'|\n",
        "                        School_Name == 'Chicago High School for the Arts (ChiArts)'|\n",
        "                        School_Name == 'Chicago Technology Academy High School')"
      ],
      "execution_count": null,
      "outputs": []
    },
    {
      "cell_type": "code",
      "metadata": {
        "id": "ML2YpZ-IBJuI",
        "colab_type": "code",
        "colab": {}
      },
      "source": [
        "#grabbing only high schools form demographic dataset\n",
        "highschooldem <- subset(df, Network == 'Network 14'|\n",
        "                        Network == 'Network 15'|\n",
        "                        Network == 'Network 16'|\n",
        "                        Network == 'Network 17'|\n",
        "                        School_Name == 'Chicago Academy High School'|\n",
        "                        School_Name == 'Collins Academy High School'|\n",
        "                        School_Name == 'Orr Academy High School'|\n",
        "                        School_Name == 'Wendell Phillips Academy High School'|\n",
        "                        School_Name == 'Roald Amundsen High School'|\n",
        "                        School_Name == 'Back of the Yards IB HS'|\n",
        "                        School_Name == 'Chicago High School for Agricultural Sciences'|\n",
        "                        School_Name == 'Michele Clark Academic Prep Magnet High School'|\n",
        "                        School_Name == 'Infinity Math Science and Technology High School'|\n",
        "                        School_Name == 'William Jones College Preparatory High School'|\n",
        "                        School_Name == 'Benito Juarez Community Academy High School'|\n",
        "                        School_Name == 'Marine Leadership Academy at Ames'|\n",
        "                        School_Name == 'Northside College Preparatory High School'|\n",
        "                        School_Name == 'Walter Payton College Preparatory High School'|\n",
        "                        School_Name == 'Peace & Education Coalition HS'|\n",
        "                        School_Name == 'Phoenix Military Academy High School'|\n",
        "                        School_Name == 'Hyman G Rickover Naval Academy High School'|\n",
        "                        School_Name == 'Southside Occupational Academy High School'|\n",
        "                        School_Name == 'Whitney M Young Magnet High School'|\n",
        "                        School_Name == 'Chicago High School for the Arts (ChiArts)'|\n",
        "                        School_Name == 'Chicago Technology Academy High School')"
      ],
      "execution_count": null,
      "outputs": []
    },
    {
      "cell_type": "code",
      "metadata": {
        "id": "yeHW7ECABJuL",
        "colab_type": "code",
        "colab": {},
        "outputId": "2cdef463-3ad9-42ed-8c44-bfd6cd97a15b"
      },
      "source": [
        "dim(highschools)"
      ],
      "execution_count": null,
      "outputs": [
        {
          "output_type": "display_data",
          "data": {
            "text/html": [
              "<ol class=list-inline>\n",
              "\t<li>98</li>\n",
              "\t<li>10</li>\n",
              "</ol>\n"
            ],
            "text/latex": "\\begin{enumerate*}\n\\item 98\n\\item 10\n\\end{enumerate*}\n",
            "text/markdown": "1. 98\n2. 10\n\n\n",
            "text/plain": [
              "[1] 98 10"
            ]
          },
          "metadata": {
            "tags": []
          }
        }
      ]
    },
    {
      "cell_type": "code",
      "metadata": {
        "id": "2Cf89q4nBJuO",
        "colab_type": "code",
        "colab": {},
        "outputId": "858956ab-41f8-48e2-8ae6-9af5bd91a69d"
      },
      "source": [
        "head(highschooldem)"
      ],
      "execution_count": null,
      "outputs": [
        {
          "output_type": "display_data",
          "data": {
            "text/html": [
              "<table>\n",
              "<caption>A tibble: 6 × 22</caption>\n",
              "<thead>\n",
              "\t<tr><th scope=col>Network</th><th scope=col>School_ID</th><th scope=col>School_Name</th><th scope=col>Total</th><th scope=col>White_No</th><th scope=col>White_Per</th><th scope=col>AA_No</th><th scope=col>AA_Per</th><th scope=col>AsianPI_No</th><th scope=col>AsianPI_Per</th><th scope=col>⋯</th><th scope=col>Hispanic_No</th><th scope=col>Hispanic_Per</th><th scope=col>Multi_No</th><th scope=col>Multi_Per</th><th scope=col>Asian_No</th><th scope=col>Asian_Per</th><th scope=col>HawaiiPI_No</th><th scope=col>HawaiiPI_Per</th><th scope=col>NA_No</th><th scope=col>NA_Per</th></tr>\n",
              "\t<tr><th scope=col>&lt;chr&gt;</th><th scope=col>&lt;chr&gt;</th><th scope=col>&lt;chr&gt;</th><th scope=col>&lt;chr&gt;</th><th scope=col>&lt;chr&gt;</th><th scope=col>&lt;dbl&gt;</th><th scope=col>&lt;chr&gt;</th><th scope=col>&lt;dbl&gt;</th><th scope=col>&lt;chr&gt;</th><th scope=col>&lt;dbl&gt;</th><th scope=col>⋯</th><th scope=col>&lt;chr&gt;</th><th scope=col>&lt;dbl&gt;</th><th scope=col>&lt;chr&gt;</th><th scope=col>&lt;dbl&gt;</th><th scope=col>&lt;chr&gt;</th><th scope=col>&lt;dbl&gt;</th><th scope=col>&lt;chr&gt;</th><th scope=col>&lt;dbl&gt;</th><th scope=col>&lt;chr&gt;</th><th scope=col>&lt;dbl&gt;</th></tr>\n",
              "</thead>\n",
              "<tbody>\n",
              "\t<tr><td>Network 14</td><td>609720</td><td>Albert G Lane Technical High School       </td><td>4502</td><td>1770</td><td>39.3</td><td>338</td><td> 7.5</td><td>0</td><td>0</td><td>⋯</td><td>1743</td><td>38.7</td><td>126</td><td>2.80</td><td>463</td><td>10.284</td><td>30</td><td>0.6664</td><td>13</td><td>0.289</td></tr>\n",
              "\t<tr><td>Network 14</td><td>609729</td><td>Carl Schurz High School                   </td><td>1533</td><td>84  </td><td> 5.5</td><td>135</td><td> 8.8</td><td>0</td><td>0</td><td>⋯</td><td>1257</td><td>82.0</td><td>16 </td><td>1.04</td><td>28 </td><td> 1.826</td><td>7 </td><td>0.4566</td><td>1 </td><td>0.065</td></tr>\n",
              "\t<tr><td>Network 14</td><td>609732</td><td>Charles P Steinmetz College Preparatory HS</td><td>1230</td><td>84  </td><td> 6.8</td><td>204</td><td>16.6</td><td>0</td><td>0</td><td>⋯</td><td>882 </td><td>71.7</td><td>12 </td><td>0.98</td><td>31 </td><td> 2.520</td><td>3 </td><td>0.2439</td><td>6 </td><td>0.488</td></tr>\n",
              "\t<tr><td>Network 14</td><td>610402</td><td>DeVry University Advantage Academy HS     </td><td>142 </td><td>13  </td><td> 9.2</td><td>47 </td><td>33.1</td><td>0</td><td>0</td><td>⋯</td><td>75  </td><td>52.8</td><td>1  </td><td>0.70</td><td>6  </td><td> 4.225</td><td>0 </td><td>0.0000</td><td>0 </td><td>0.000</td></tr>\n",
              "\t<tr><td>Network 14</td><td>610564</td><td>Disney II Magnet High School              </td><td>773 </td><td>161 </td><td>20.8</td><td>155</td><td>20.1</td><td>0</td><td>0</td><td>⋯</td><td>400 </td><td>51.7</td><td>24 </td><td>3.10</td><td>27 </td><td> 3.493</td><td>0 </td><td>0.0000</td><td>3 </td><td>0.388</td></tr>\n",
              "\t<tr><td>Network 14</td><td>610515</td><td>Disney II Magnet School                   </td><td>433 </td><td>184 </td><td>42.5</td><td>33 </td><td> 7.6</td><td>0</td><td>0</td><td>⋯</td><td>168 </td><td>38.8</td><td>14 </td><td>3.23</td><td>31 </td><td> 7.159</td><td>0 </td><td>0.0000</td><td>0 </td><td>0.000</td></tr>\n",
              "</tbody>\n",
              "</table>\n"
            ],
            "text/latex": "A tibble: 6 × 22\n\\begin{tabular}{r|llllllllllllllllllllll}\n Network & School\\_ID & School\\_Name & Total & White\\_No & White\\_Per & AA\\_No & AA\\_Per & AsianPI\\_No & AsianPI\\_Per & NativeAmerican\\_No & NativeAmerican\\_Per & Hispanic\\_No & Hispanic\\_Per & Multi\\_No & Multi\\_Per & Asian\\_No & Asian\\_Per & HawaiiPI\\_No & HawaiiPI\\_Per & NA\\_No & NA\\_Per\\\\\n <chr> & <chr> & <chr> & <chr> & <chr> & <dbl> & <chr> & <dbl> & <chr> & <dbl> & <chr> & <dbl> & <chr> & <dbl> & <chr> & <dbl> & <chr> & <dbl> & <chr> & <dbl> & <chr> & <dbl>\\\\\n\\hline\n\t Network 14 & 609720 & Albert G Lane Technical High School        & 4502 & 1770 & 39.3 & 338 &  7.5 & 0 & 0 & 19 & 0.4220 & 1743 & 38.7 & 126 & 2.80 & 463 & 10.284 & 30 & 0.6664 & 13 & 0.289\\\\\n\t Network 14 & 609729 & Carl Schurz High School                    & 1533 & 84   &  5.5 & 135 &  8.8 & 0 & 0 & 5  & 0.3262 & 1257 & 82.0 & 16  & 1.04 & 28  &  1.826 & 7  & 0.4566 & 1  & 0.065\\\\\n\t Network 14 & 609732 & Charles P Steinmetz College Preparatory HS & 1230 & 84   &  6.8 & 204 & 16.6 & 0 & 0 & 8  & 0.6504 & 882  & 71.7 & 12  & 0.98 & 31  &  2.520 & 3  & 0.2439 & 6  & 0.488\\\\\n\t Network 14 & 610402 & DeVry University Advantage Academy HS      & 142  & 13   &  9.2 & 47  & 33.1 & 0 & 0 & 0  & 0.0000 & 75   & 52.8 & 1   & 0.70 & 6   &  4.225 & 0  & 0.0000 & 0  & 0.000\\\\\n\t Network 14 & 610564 & Disney II Magnet High School               & 773  & 161  & 20.8 & 155 & 20.1 & 0 & 0 & 3  & 0.3881 & 400  & 51.7 & 24  & 3.10 & 27  &  3.493 & 0  & 0.0000 & 3  & 0.388\\\\\n\t Network 14 & 610515 & Disney II Magnet School                    & 433  & 184  & 42.5 & 33  &  7.6 & 0 & 0 & 3  & 0.6928 & 168  & 38.8 & 14  & 3.23 & 31  &  7.159 & 0  & 0.0000 & 0  & 0.000\\\\\n\\end{tabular}\n",
            "text/markdown": "\nA tibble: 6 × 22\n\n| Network &lt;chr&gt; | School_ID &lt;chr&gt; | School_Name &lt;chr&gt; | Total &lt;chr&gt; | White_No &lt;chr&gt; | White_Per &lt;dbl&gt; | AA_No &lt;chr&gt; | AA_Per &lt;dbl&gt; | AsianPI_No &lt;chr&gt; | AsianPI_Per &lt;dbl&gt; | ⋯ ⋯ | Hispanic_No &lt;chr&gt; | Hispanic_Per &lt;dbl&gt; | Multi_No &lt;chr&gt; | Multi_Per &lt;dbl&gt; | Asian_No &lt;chr&gt; | Asian_Per &lt;dbl&gt; | HawaiiPI_No &lt;chr&gt; | HawaiiPI_Per &lt;dbl&gt; | NA_No &lt;chr&gt; | NA_Per &lt;dbl&gt; |\n|---|---|---|---|---|---|---|---|---|---|---|---|---|---|---|---|---|---|---|---|---|\n| Network 14 | 609720 | Albert G Lane Technical High School        | 4502 | 1770 | 39.3 | 338 |  7.5 | 0 | 0 | ⋯ | 1743 | 38.7 | 126 | 2.80 | 463 | 10.284 | 30 | 0.6664 | 13 | 0.289 |\n| Network 14 | 609729 | Carl Schurz High School                    | 1533 | 84   |  5.5 | 135 |  8.8 | 0 | 0 | ⋯ | 1257 | 82.0 | 16  | 1.04 | 28  |  1.826 | 7  | 0.4566 | 1  | 0.065 |\n| Network 14 | 609732 | Charles P Steinmetz College Preparatory HS | 1230 | 84   |  6.8 | 204 | 16.6 | 0 | 0 | ⋯ | 882  | 71.7 | 12  | 0.98 | 31  |  2.520 | 3  | 0.2439 | 6  | 0.488 |\n| Network 14 | 610402 | DeVry University Advantage Academy HS      | 142  | 13   |  9.2 | 47  | 33.1 | 0 | 0 | ⋯ | 75   | 52.8 | 1   | 0.70 | 6   |  4.225 | 0  | 0.0000 | 0  | 0.000 |\n| Network 14 | 610564 | Disney II Magnet High School               | 773  | 161  | 20.8 | 155 | 20.1 | 0 | 0 | ⋯ | 400  | 51.7 | 24  | 3.10 | 27  |  3.493 | 0  | 0.0000 | 3  | 0.388 |\n| Network 14 | 610515 | Disney II Magnet School                    | 433  | 184  | 42.5 | 33  |  7.6 | 0 | 0 | ⋯ | 168  | 38.8 | 14  | 3.23 | 31  |  7.159 | 0  | 0.0000 | 0  | 0.000 |\n\n",
            "text/plain": [
              "  Network    School_ID School_Name                                Total\n",
              "1 Network 14 609720    Albert G Lane Technical High School        4502 \n",
              "2 Network 14 609729    Carl Schurz High School                    1533 \n",
              "3 Network 14 609732    Charles P Steinmetz College Preparatory HS 1230 \n",
              "4 Network 14 610402    DeVry University Advantage Academy HS      142  \n",
              "5 Network 14 610564    Disney II Magnet High School               773  \n",
              "6 Network 14 610515    Disney II Magnet School                    433  \n",
              "  White_No White_Per AA_No AA_Per AsianPI_No AsianPI_Per ⋯ Hispanic_No\n",
              "1 1770     39.3      338    7.5   0          0           ⋯ 1743       \n",
              "2 84        5.5      135    8.8   0          0           ⋯ 1257       \n",
              "3 84        6.8      204   16.6   0          0           ⋯ 882        \n",
              "4 13        9.2      47    33.1   0          0           ⋯ 75         \n",
              "5 161      20.8      155   20.1   0          0           ⋯ 400        \n",
              "6 184      42.5      33     7.6   0          0           ⋯ 168        \n",
              "  Hispanic_Per Multi_No Multi_Per Asian_No Asian_Per HawaiiPI_No HawaiiPI_Per\n",
              "1 38.7         126      2.80      463      10.284    30          0.6664      \n",
              "2 82.0         16       1.04      28        1.826    7           0.4566      \n",
              "3 71.7         12       0.98      31        2.520    3           0.2439      \n",
              "4 52.8         1        0.70      6         4.225    0           0.0000      \n",
              "5 51.7         24       3.10      27        3.493    0           0.0000      \n",
              "6 38.8         14       3.23      31        7.159    0           0.0000      \n",
              "  NA_No NA_Per\n",
              "1 13    0.289 \n",
              "2 1     0.065 \n",
              "3 6     0.488 \n",
              "4 0     0.000 \n",
              "5 3     0.388 \n",
              "6 0     0.000 "
            ]
          },
          "metadata": {
            "tags": []
          }
        }
      ]
    },
    {
      "cell_type": "code",
      "metadata": {
        "id": "3NYTLZLFBJuR",
        "colab_type": "code",
        "colab": {}
      },
      "source": [
        "#creating one big dataset\n",
        "demographicdata <- merge(highschools,highschooldem,by=\"School_ID\")"
      ],
      "execution_count": null,
      "outputs": []
    },
    {
      "cell_type": "code",
      "metadata": {
        "id": "iyjPAi31BJuV",
        "colab_type": "code",
        "colab": {}
      },
      "source": [
        "write.csv(demographicdata,\"/dsa/home/zp2gz/jupyter/Untitled Folder/FinalDataSet.csv\", row.names = FALSE)"
      ],
      "execution_count": null,
      "outputs": []
    },
    {
      "cell_type": "code",
      "metadata": {
        "id": "eDaV7No-BJuY",
        "colab_type": "code",
        "colab": {}
      },
      "source": [
        "#creating a dataset with just selective enrollment\n",
        "selectiveenrollment <- subset(demographicdata, School_Name.x == 'Gwendolyn Brooks College Preparatory Academy HS'|\n",
        "                             School_Name.x == 'John Hancock College Preparatory High School'|\n",
        "                             School_Name.x == 'William Jones College Preparatory High School'|\n",
        "                             School_Name.x == 'Albert G Lane Technical High School'|\n",
        "                             School_Name.x == 'Robert Lindblom Math & Science Academy HS'|\n",
        "                             School_Name.x == 'Dr  Martin Luther King  Jr  College Prep HS'|\n",
        "                             School_Name.x == 'Northside College Preparatory High School'|\n",
        "                             School_Name.x == 'Walter Payton College Preparatory High School'|\n",
        "                             School_Name.x == 'South Shore Intl College Prep High School'|\n",
        "                             School_Name.x == 'George Westinghouse College Prep'|\n",
        "                             School_Name.x == 'Whitney M Young Magnet High School')"
      ],
      "execution_count": null,
      "outputs": []
    },
    {
      "cell_type": "code",
      "metadata": {
        "id": "JT5x78bZBJub",
        "colab_type": "code",
        "colab": {},
        "outputId": "ac1b611f-b0c9-4673-c5ff-c94b06a89a0a"
      },
      "source": [
        "selectiveenrollment"
      ],
      "execution_count": null,
      "outputs": [
        {
          "output_type": "display_data",
          "data": {
            "text/html": [
              "<table>\n",
              "<caption>A data.frame: 11 × 31</caption>\n",
              "<thead>\n",
              "\t<tr><th></th><th scope=col>School_ID</th><th scope=col>Network.x</th><th scope=col>School_Name.x</th><th scope=col>Total_Students</th><th scope=col>Number_of_Bilingual</th><th scope=col>Bilingual_Percentage</th><th scope=col>Number_of_SpED</th><th scope=col>SpED_Percentage</th><th scope=col>Free/Reduced_Lunch</th><th scope=col>Lunch_Percentage</th><th scope=col>⋯</th><th scope=col>Hispanic_No</th><th scope=col>Hispanic_Per</th><th scope=col>Multi_No</th><th scope=col>Multi_Per</th><th scope=col>Asian_No</th><th scope=col>Asian_Per</th><th scope=col>HawaiiPI_No</th><th scope=col>HawaiiPI_Per</th><th scope=col>NA_No</th><th scope=col>NA_Per</th></tr>\n",
              "\t<tr><th></th><th scope=col>&lt;chr&gt;</th><th scope=col>&lt;chr&gt;</th><th scope=col>&lt;chr&gt;</th><th scope=col>&lt;chr&gt;</th><th scope=col>&lt;chr&gt;</th><th scope=col>&lt;dbl&gt;</th><th scope=col>&lt;chr&gt;</th><th scope=col>&lt;dbl&gt;</th><th scope=col>&lt;chr&gt;</th><th scope=col>&lt;dbl&gt;</th><th scope=col>⋯</th><th scope=col>&lt;chr&gt;</th><th scope=col>&lt;dbl&gt;</th><th scope=col>&lt;chr&gt;</th><th scope=col>&lt;dbl&gt;</th><th scope=col>&lt;chr&gt;</th><th scope=col>&lt;dbl&gt;</th><th scope=col>&lt;chr&gt;</th><th scope=col>&lt;dbl&gt;</th><th scope=col>&lt;chr&gt;</th><th scope=col>&lt;dbl&gt;</th></tr>\n",
              "</thead>\n",
              "<tbody>\n",
              "\t<tr><th scope=row>5</th><td>609678</td><td>ISP       </td><td>William Jones College Preparatory High School  </td><td>1970</td><td>20</td><td>1.02</td><td>99 </td><td> 5.03</td><td>670 </td><td>34.01</td><td>⋯</td><td>554 </td><td>28.1</td><td>72 </td><td>3.65</td><td>275</td><td>13.959</td><td>16</td><td>0.8122</td><td>91</td><td>4.619</td></tr>\n",
              "\t<tr><th scope=row>7</th><td>609680</td><td>ISP       </td><td>Walter Payton College Preparatory High School  </td><td>1220</td><td>9 </td><td>0.74</td><td>51 </td><td> 4.18</td><td>347 </td><td>28.44</td><td>⋯</td><td>267 </td><td>21.9</td><td>50 </td><td>4.10</td><td>226</td><td>18.525</td><td>12</td><td>0.9836</td><td>0 </td><td>0.000</td></tr>\n",
              "\t<tr><th scope=row>11</th><td>609693</td><td>Network 15</td><td>George Westinghouse College Prep               </td><td>1242</td><td>36</td><td>2.90</td><td>88 </td><td> 7.09</td><td>977 </td><td>78.66</td><td>⋯</td><td>529 </td><td>42.6</td><td>8  </td><td>0.64</td><td>69 </td><td> 5.556</td><td>2 </td><td>0.1610</td><td>11</td><td>0.886</td></tr>\n",
              "\t<tr><th scope=row>12</th><td>609694</td><td>Network 15</td><td>John Hancock College Preparatory High School   </td><td>1016</td><td>8 </td><td>0.79</td><td>23 </td><td> 2.26</td><td>811 </td><td>79.82</td><td>⋯</td><td>948 </td><td>93.3</td><td>1  </td><td>0.10</td><td>9  </td><td> 0.886</td><td>0 </td><td>0.0000</td><td>0 </td><td>0.000</td></tr>\n",
              "\t<tr><th scope=row>27</th><td>609720</td><td>Network 14</td><td>Albert G Lane Technical High School            </td><td>4502</td><td>37</td><td>0.82</td><td>211</td><td> 4.69</td><td>1796</td><td>39.89</td><td>⋯</td><td>1743</td><td>38.7</td><td>126</td><td>2.80</td><td>463</td><td>10.284</td><td>30</td><td>0.6664</td><td>13</td><td>0.289</td></tr>\n",
              "\t<tr><th scope=row>32</th><td>609726</td><td>Network 17</td><td>Gwendolyn Brooks College Preparatory Academy HS</td><td>1007</td><td>2 </td><td>0.20</td><td>59 </td><td> 5.86</td><td>696 </td><td>69.12</td><td>⋯</td><td>188 </td><td>18.7</td><td>7  </td><td>0.70</td><td>0  </td><td> 0.000</td><td>3 </td><td>0.2979</td><td>17</td><td>1.688</td></tr>\n",
              "\t<tr><th scope=row>50</th><td>609749</td><td>ISP       </td><td>Northside College Preparatory High School      </td><td>1078</td><td>7 </td><td>0.65</td><td>53 </td><td> 4.92</td><td>464 </td><td>43.04</td><td>⋯</td><td>319 </td><td>29.6</td><td>42 </td><td>3.90</td><td>213</td><td>19.759</td><td>5 </td><td>0.4638</td><td>75</td><td>6.957</td></tr>\n",
              "\t<tr><th scope=row>52</th><td>609751</td><td>Network 17</td><td>Dr  Martin Luther King  Jr  College Prep HS    </td><td>486 </td><td>6 </td><td>1.23</td><td>63 </td><td>12.96</td><td>400 </td><td>82.30</td><td>⋯</td><td>13  </td><td> 2.7</td><td>4  </td><td>0.82</td><td>2  </td><td> 0.412</td><td>0 </td><td>0.0000</td><td>0 </td><td>0.000</td></tr>\n",
              "\t<tr><th scope=row>55</th><td>609755</td><td>ISP       </td><td>Whitney M Young Magnet High School             </td><td>2200</td><td>30</td><td>1.36</td><td>125</td><td> 5.68</td><td>807 </td><td>36.68</td><td>⋯</td><td>626 </td><td>28.5</td><td>92 </td><td>4.18</td><td>416</td><td>18.909</td><td>12</td><td>0.5455</td><td>19</td><td>0.864</td></tr>\n",
              "\t<tr><th scope=row>82</th><td>610391</td><td>Network 16</td><td><span style=white-space:pre-wrap>Robert Lindblom Math &amp; Science Academy HS      </span></td><td>1362</td><td>25</td><td>1.84</td><td>73 </td><td> 5.36</td><td>849 </td><td>62.33</td><td>⋯</td><td>350 </td><td>25.7</td><td><span style=white-space:pre-wrap>5  </span></td><td>0.37</td><td>11 </td><td> 0.808</td><td>0 </td><td>0.0000</td><td>1 </td><td>0.073</td></tr>\n",
              "\t<tr><th scope=row>92</th><td>610547</td><td>Network 17</td><td>South Shore Intl College Prep High School      </td><td>587 </td><td>4 </td><td>0.68</td><td>51 </td><td> 8.69</td><td>486 </td><td>82.79</td><td>⋯</td><td>13  </td><td> 2.2</td><td>5  </td><td>0.85</td><td>1  </td><td> 0.170</td><td>0 </td><td>0.0000</td><td>0 </td><td>0.000</td></tr>\n",
              "</tbody>\n",
              "</table>\n"
            ],
            "text/latex": "A data.frame: 11 × 31\n\\begin{tabular}{r|lllllllllllllllllllllllllllllll}\n  & School\\_ID & Network.x & School\\_Name.x & Total\\_Students & Number\\_of\\_Bilingual & Bilingual\\_Percentage & Number\\_of\\_SpED & SpED\\_Percentage & Free/Reduced\\_Lunch & Lunch\\_Percentage & Network.y & School\\_Name.y & Total & White\\_No & White\\_Per & AA\\_No & AA\\_Per & AsianPI\\_No & AsianPI\\_Per & NativeAmerican\\_No & NativeAmerican\\_Per & Hispanic\\_No & Hispanic\\_Per & Multi\\_No & Multi\\_Per & Asian\\_No & Asian\\_Per & HawaiiPI\\_No & HawaiiPI\\_Per & NA\\_No & NA\\_Per\\\\\n  & <chr> & <chr> & <chr> & <chr> & <chr> & <dbl> & <chr> & <dbl> & <chr> & <dbl> & <chr> & <chr> & <chr> & <chr> & <dbl> & <chr> & <dbl> & <chr> & <dbl> & <chr> & <dbl> & <chr> & <dbl> & <chr> & <dbl> & <chr> & <dbl> & <chr> & <dbl> & <chr> & <dbl>\\\\\n\\hline\n\t5 & 609678 & ISP        & William Jones College Preparatory High School   & 1970 & 20 & 1.02 & 99  &  5.03 & 670  & 34.01 & ISP        & William Jones College Preparatory High School   & 1970 & 727  & 36.9 & 231 & 11.7 & 2 & 0.1015 & 2  & 0.1015 & 554  & 28.1 & 72  & 3.65 & 275 & 13.959 & 16 & 0.8122 & 91 & 4.619\\\\\n\t7 & 609680 & ISP        & Walter Payton College Preparatory High School   & 1220 & 9  & 0.74 & 51  &  4.18 & 347  & 28.44 & ISP        & Walter Payton College Preparatory High School   & 1220 & 536  & 43.9 & 127 & 10.4 & 0 & 0.0000 & 2  & 0.1639 & 267  & 21.9 & 50  & 4.10 & 226 & 18.525 & 12 & 0.9836 & 0  & 0.000\\\\\n\t11 & 609693 & Network 15 & George Westinghouse College Prep                & 1242 & 36 & 2.90 & 88  &  7.09 & 977  & 78.66 & Network 15 & George Westinghouse College Prep                & 1242 & 19   &  1.5 & 603 & 48.6 & 0 & 0.0000 & 1  & 0.0805 & 529  & 42.6 & 8   & 0.64 & 69  &  5.556 & 2  & 0.1610 & 11 & 0.886\\\\\n\t12 & 609694 & Network 15 & John Hancock College Preparatory High School    & 1016 & 8  & 0.79 & 23  &  2.26 & 811  & 79.82 & Network 15 & John Hancock College Preparatory High School    & 1016 & 35   &  3.4 & 18  &  1.8 & 0 & 0.0000 & 5  & 0.4921 & 948  & 93.3 & 1   & 0.10 & 9   &  0.886 & 0  & 0.0000 & 0  & 0.000\\\\\n\t27 & 609720 & Network 14 & Albert G Lane Technical High School             & 4502 & 37 & 0.82 & 211 &  4.69 & 1796 & 39.89 & Network 14 & Albert G Lane Technical High School             & 4502 & 1770 & 39.3 & 338 &  7.5 & 0 & 0.0000 & 19 & 0.4220 & 1743 & 38.7 & 126 & 2.80 & 463 & 10.284 & 30 & 0.6664 & 13 & 0.289\\\\\n\t32 & 609726 & Network 17 & Gwendolyn Brooks College Preparatory Academy HS & 1007 & 2  & 0.20 & 59  &  5.86 & 696  & 69.12 & Network 17 & Gwendolyn Brooks College Preparatory Academy HS & 1007 & 8    &  0.8 & 784 & 77.9 & 0 & 0.0000 & 0  & 0.0000 & 188  & 18.7 & 7   & 0.70 & 0   &  0.000 & 3  & 0.2979 & 17 & 1.688\\\\\n\t50 & 609749 & ISP        & Northside College Preparatory High School       & 1078 & 7  & 0.65 & 53  &  4.92 & 464  & 43.04 & ISP        & Northside College Preparatory High School       & 1078 & 341  & 31.6 & 72  &  6.7 & 7 & 0.6494 & 4  & 0.3711 & 319  & 29.6 & 42  & 3.90 & 213 & 19.759 & 5  & 0.4638 & 75 & 6.957\\\\\n\t52 & 609751 & Network 17 & Dr  Martin Luther King  Jr  College Prep HS     & 486  & 6  & 1.23 & 63  & 12.96 & 400  & 82.30 & Network 17 & Dr  Martin Luther King  Jr  College Prep HS     & 486  & 1    &  0.2 & 465 & 95.7 & 0 & 0.0000 & 1  & 0.2058 & 13   &  2.7 & 4   & 0.82 & 2   &  0.412 & 0  & 0.0000 & 0  & 0.000\\\\\n\t55 & 609755 & ISP        & Whitney M Young Magnet High School              & 2200 & 30 & 1.36 & 125 &  5.68 & 807  & 36.68 & ISP        & Whitney M Young Magnet High School              & 2200 & 605  & 27.5 & 425 & 19.3 & 0 & 0.0000 & 5  & 0.2273 & 626  & 28.5 & 92  & 4.18 & 416 & 18.909 & 12 & 0.5455 & 19 & 0.864\\\\\n\t82 & 610391 & Network 16 & Robert Lindblom Math \\& Science Academy HS       & 1362 & 25 & 1.84 & 73  &  5.36 & 849  & 62.33 & Network 16 & Robert Lindblom Math \\& Science Academy HS       & 1362 & 44   &  3.2 & 947 & 69.5 & 0 & 0.0000 & 4  & 0.2937 & 350  & 25.7 & 5   & 0.37 & 11  &  0.808 & 0  & 0.0000 & 1  & 0.073\\\\\n\t92 & 610547 & Network 17 & South Shore Intl College Prep High School       & 587  & 4  & 0.68 & 51  &  8.69 & 486  & 82.79 & Network 17 & South Shore Intl College Prep High School       & 587  & 0    &  0.0 & 568 & 96.8 & 0 & 0.0000 & 0  & 0.0000 & 13   &  2.2 & 5   & 0.85 & 1   &  0.170 & 0  & 0.0000 & 0  & 0.000\\\\\n\\end{tabular}\n",
            "text/markdown": "\nA data.frame: 11 × 31\n\n| <!--/--> | School_ID &lt;chr&gt; | Network.x &lt;chr&gt; | School_Name.x &lt;chr&gt; | Total_Students &lt;chr&gt; | Number_of_Bilingual &lt;chr&gt; | Bilingual_Percentage &lt;dbl&gt; | Number_of_SpED &lt;chr&gt; | SpED_Percentage &lt;dbl&gt; | Free/Reduced_Lunch &lt;chr&gt; | Lunch_Percentage &lt;dbl&gt; | ⋯ ⋯ | Hispanic_No &lt;chr&gt; | Hispanic_Per &lt;dbl&gt; | Multi_No &lt;chr&gt; | Multi_Per &lt;dbl&gt; | Asian_No &lt;chr&gt; | Asian_Per &lt;dbl&gt; | HawaiiPI_No &lt;chr&gt; | HawaiiPI_Per &lt;dbl&gt; | NA_No &lt;chr&gt; | NA_Per &lt;dbl&gt; |\n|---|---|---|---|---|---|---|---|---|---|---|---|---|---|---|---|---|---|---|---|---|---|\n| 5 | 609678 | ISP        | William Jones College Preparatory High School   | 1970 | 20 | 1.02 | 99  |  5.03 | 670  | 34.01 | ⋯ | 554  | 28.1 | 72  | 3.65 | 275 | 13.959 | 16 | 0.8122 | 91 | 4.619 |\n| 7 | 609680 | ISP        | Walter Payton College Preparatory High School   | 1220 | 9  | 0.74 | 51  |  4.18 | 347  | 28.44 | ⋯ | 267  | 21.9 | 50  | 4.10 | 226 | 18.525 | 12 | 0.9836 | 0  | 0.000 |\n| 11 | 609693 | Network 15 | George Westinghouse College Prep                | 1242 | 36 | 2.90 | 88  |  7.09 | 977  | 78.66 | ⋯ | 529  | 42.6 | 8   | 0.64 | 69  |  5.556 | 2  | 0.1610 | 11 | 0.886 |\n| 12 | 609694 | Network 15 | John Hancock College Preparatory High School    | 1016 | 8  | 0.79 | 23  |  2.26 | 811  | 79.82 | ⋯ | 948  | 93.3 | 1   | 0.10 | 9   |  0.886 | 0  | 0.0000 | 0  | 0.000 |\n| 27 | 609720 | Network 14 | Albert G Lane Technical High School             | 4502 | 37 | 0.82 | 211 |  4.69 | 1796 | 39.89 | ⋯ | 1743 | 38.7 | 126 | 2.80 | 463 | 10.284 | 30 | 0.6664 | 13 | 0.289 |\n| 32 | 609726 | Network 17 | Gwendolyn Brooks College Preparatory Academy HS | 1007 | 2  | 0.20 | 59  |  5.86 | 696  | 69.12 | ⋯ | 188  | 18.7 | 7   | 0.70 | 0   |  0.000 | 3  | 0.2979 | 17 | 1.688 |\n| 50 | 609749 | ISP        | Northside College Preparatory High School       | 1078 | 7  | 0.65 | 53  |  4.92 | 464  | 43.04 | ⋯ | 319  | 29.6 | 42  | 3.90 | 213 | 19.759 | 5  | 0.4638 | 75 | 6.957 |\n| 52 | 609751 | Network 17 | Dr  Martin Luther King  Jr  College Prep HS     | 486  | 6  | 1.23 | 63  | 12.96 | 400  | 82.30 | ⋯ | 13   |  2.7 | 4   | 0.82 | 2   |  0.412 | 0  | 0.0000 | 0  | 0.000 |\n| 55 | 609755 | ISP        | Whitney M Young Magnet High School              | 2200 | 30 | 1.36 | 125 |  5.68 | 807  | 36.68 | ⋯ | 626  | 28.5 | 92  | 4.18 | 416 | 18.909 | 12 | 0.5455 | 19 | 0.864 |\n| 82 | 610391 | Network 16 | Robert Lindblom Math &amp; Science Academy HS       | 1362 | 25 | 1.84 | 73  |  5.36 | 849  | 62.33 | ⋯ | 350  | 25.7 | 5   | 0.37 | 11  |  0.808 | 0  | 0.0000 | 1  | 0.073 |\n| 92 | 610547 | Network 17 | South Shore Intl College Prep High School       | 587  | 4  | 0.68 | 51  |  8.69 | 486  | 82.79 | ⋯ | 13   |  2.2 | 5   | 0.85 | 1   |  0.170 | 0  | 0.0000 | 0  | 0.000 |\n\n",
            "text/plain": [
              "   School_ID Network.x  School_Name.x                                  \n",
              "5  609678    ISP        William Jones College Preparatory High School  \n",
              "7  609680    ISP        Walter Payton College Preparatory High School  \n",
              "11 609693    Network 15 George Westinghouse College Prep               \n",
              "12 609694    Network 15 John Hancock College Preparatory High School   \n",
              "27 609720    Network 14 Albert G Lane Technical High School            \n",
              "32 609726    Network 17 Gwendolyn Brooks College Preparatory Academy HS\n",
              "50 609749    ISP        Northside College Preparatory High School      \n",
              "52 609751    Network 17 Dr  Martin Luther King  Jr  College Prep HS    \n",
              "55 609755    ISP        Whitney M Young Magnet High School             \n",
              "82 610391    Network 16 Robert Lindblom Math & Science Academy HS      \n",
              "92 610547    Network 17 South Shore Intl College Prep High School      \n",
              "   Total_Students Number_of_Bilingual Bilingual_Percentage Number_of_SpED\n",
              "5  1970           20                  1.02                 99            \n",
              "7  1220           9                   0.74                 51            \n",
              "11 1242           36                  2.90                 88            \n",
              "12 1016           8                   0.79                 23            \n",
              "27 4502           37                  0.82                 211           \n",
              "32 1007           2                   0.20                 59            \n",
              "50 1078           7                   0.65                 53            \n",
              "52 486            6                   1.23                 63            \n",
              "55 2200           30                  1.36                 125           \n",
              "82 1362           25                  1.84                 73            \n",
              "92 587            4                   0.68                 51            \n",
              "   SpED_Percentage Free/Reduced_Lunch Lunch_Percentage ⋯ Hispanic_No\n",
              "5   5.03           670                34.01            ⋯ 554        \n",
              "7   4.18           347                28.44            ⋯ 267        \n",
              "11  7.09           977                78.66            ⋯ 529        \n",
              "12  2.26           811                79.82            ⋯ 948        \n",
              "27  4.69           1796               39.89            ⋯ 1743       \n",
              "32  5.86           696                69.12            ⋯ 188        \n",
              "50  4.92           464                43.04            ⋯ 319        \n",
              "52 12.96           400                82.30            ⋯ 13         \n",
              "55  5.68           807                36.68            ⋯ 626        \n",
              "82  5.36           849                62.33            ⋯ 350        \n",
              "92  8.69           486                82.79            ⋯ 13         \n",
              "   Hispanic_Per Multi_No Multi_Per Asian_No Asian_Per HawaiiPI_No HawaiiPI_Per\n",
              "5  28.1         72       3.65      275      13.959    16          0.8122      \n",
              "7  21.9         50       4.10      226      18.525    12          0.9836      \n",
              "11 42.6         8        0.64      69        5.556    2           0.1610      \n",
              "12 93.3         1        0.10      9         0.886    0           0.0000      \n",
              "27 38.7         126      2.80      463      10.284    30          0.6664      \n",
              "32 18.7         7        0.70      0         0.000    3           0.2979      \n",
              "50 29.6         42       3.90      213      19.759    5           0.4638      \n",
              "52  2.7         4        0.82      2         0.412    0           0.0000      \n",
              "55 28.5         92       4.18      416      18.909    12          0.5455      \n",
              "82 25.7         5        0.37      11        0.808    0           0.0000      \n",
              "92  2.2         5        0.85      1         0.170    0           0.0000      \n",
              "   NA_No NA_Per\n",
              "5  91    4.619 \n",
              "7  0     0.000 \n",
              "11 11    0.886 \n",
              "12 0     0.000 \n",
              "27 13    0.289 \n",
              "32 17    1.688 \n",
              "50 75    6.957 \n",
              "52 0     0.000 \n",
              "55 19    0.864 \n",
              "82 1     0.073 \n",
              "92 0     0.000 "
            ]
          },
          "metadata": {
            "tags": []
          }
        }
      ]
    },
    {
      "cell_type": "code",
      "metadata": {
        "id": "q14ZKKdrBJud",
        "colab_type": "code",
        "colab": {},
        "outputId": "e43e0d04-26f1-42a2-f29d-6ab844b509eb"
      },
      "source": [
        "#finding the averages of selective enrollment\n",
        "mean(selectiveenrollment[['Lunch_Percentage']])\n",
        "mean(selectiveenrollment[['White_Per']])\n",
        "mean(selectiveenrollment[['AA_Per']])\n",
        "mean(selectiveenrollment[['Hispanic_Per']])\n",
        "mean(selectiveenrollment[['Bilingual_Percentage']])"
      ],
      "execution_count": null,
      "outputs": [
        {
          "output_type": "display_data",
          "data": {
            "text/html": [
              "57.9163636363636"
            ],
            "text/latex": "57.9163636363636",
            "text/markdown": "57.9163636363636",
            "text/plain": [
              "[1] 57.91636"
            ]
          },
          "metadata": {
            "tags": []
          }
        },
        {
          "output_type": "display_data",
          "data": {
            "text/html": [
              "17.1181818181818"
            ],
            "text/latex": "17.1181818181818",
            "text/markdown": "17.1181818181818",
            "text/plain": [
              "[1] 17.11818"
            ]
          },
          "metadata": {
            "tags": []
          }
        },
        {
          "output_type": "display_data",
          "data": {
            "text/html": [
              "40.5363636363636"
            ],
            "text/latex": "40.5363636363636",
            "text/markdown": "40.5363636363636",
            "text/plain": [
              "[1] 40.53636"
            ]
          },
          "metadata": {
            "tags": []
          }
        },
        {
          "output_type": "display_data",
          "data": {
            "text/html": [
              "30.1818181818182"
            ],
            "text/latex": "30.1818181818182",
            "text/markdown": "30.1818181818182",
            "text/plain": [
              "[1] 30.18182"
            ]
          },
          "metadata": {
            "tags": []
          }
        },
        {
          "output_type": "display_data",
          "data": {
            "text/html": [
              "1.11181818181818"
            ],
            "text/latex": "1.11181818181818",
            "text/markdown": "1.11181818181818",
            "text/plain": [
              "[1] 1.111818"
            ]
          },
          "metadata": {
            "tags": []
          }
        }
      ]
    },
    {
      "cell_type": "code",
      "metadata": {
        "id": "nn4x_42KBJuf",
        "colab_type": "code",
        "colab": {},
        "outputId": "8252c8d7-f864-4b98-d205-ef239234ef4a"
      },
      "source": [
        "#creating arbitary dataset base don averages of selective enrollment schools\n",
        "\n",
        "#what are the Chicago Public Schools that have a greater than 60% Free/Reduced Lunch\n",
        "x <- subset(demographicdata, Lunch_Percentage > 60)\n",
        "\n",
        "#what are the Chicago Public Schools that have a greater than 60% Free/Reduced Lunch and high AA Pop\n",
        "x1 <- subset(x,AA_Per > 45)\n",
        "\n",
        "#what are the Chicago Public Schools that have a greater than 60% Free/Reduced Lunch and high Hispanic Pop\n",
        "x2 <- subset(x,Hispanic_Per > 35)\n",
        "\n",
        "#what are the Chicago Public Schools that have a greater than 60% Free/Reduced Lunch and equal to or greater than\n",
        "#2/3 Black and Hispanic\n",
        "x3 <- subset(x,AA_Per >30)\n",
        "x4 <- subset(x3,Hispanic_Per > 30)\n",
        "\n",
        "\n",
        "dim(x1)\n",
        "dim(x2)\n",
        "dim(x4)"
      ],
      "execution_count": null,
      "outputs": [
        {
          "output_type": "display_data",
          "data": {
            "text/html": [
              "<ol class=list-inline>\n",
              "\t<li>43</li>\n",
              "\t<li>31</li>\n",
              "</ol>\n"
            ],
            "text/latex": "\\begin{enumerate*}\n\\item 43\n\\item 31\n\\end{enumerate*}\n",
            "text/markdown": "1. 43\n2. 31\n\n\n",
            "text/plain": [
              "[1] 43 31"
            ]
          },
          "metadata": {
            "tags": []
          }
        },
        {
          "output_type": "display_data",
          "data": {
            "text/html": [
              "<ol class=list-inline>\n",
              "\t<li>48</li>\n",
              "\t<li>31</li>\n",
              "</ol>\n"
            ],
            "text/latex": "\\begin{enumerate*}\n\\item 48\n\\item 31\n\\end{enumerate*}\n",
            "text/markdown": "1. 48\n2. 31\n\n\n",
            "text/plain": [
              "[1] 48 31"
            ]
          },
          "metadata": {
            "tags": []
          }
        },
        {
          "output_type": "display_data",
          "data": {
            "text/html": [
              "<ol class=list-inline>\n",
              "\t<li>14</li>\n",
              "\t<li>31</li>\n",
              "</ol>\n"
            ],
            "text/latex": "\\begin{enumerate*}\n\\item 14\n\\item 31\n\\end{enumerate*}\n",
            "text/markdown": "1. 14\n2. 31\n\n\n",
            "text/plain": [
              "[1] 14 31"
            ]
          },
          "metadata": {
            "tags": []
          }
        }
      ]
    },
    {
      "cell_type": "code",
      "metadata": {
        "id": "YDqcCWYXBJui",
        "colab_type": "code",
        "colab": {}
      },
      "source": [
        "#exporting the dataset to excel sheets\n",
        "write.csv(x1,\"/dsa/home/zp2gz/jupyter/Untitled Folder/AA.csv\", row.names = FALSE)\n",
        "write.csv(x2,\"/dsa/home/zp2gz/jupyter/Untitled Folder/Hispanic.csv\", row.names = FALSE)\n",
        "write.csv(x4,\"/dsa/home/zp2gz/jupyter/Untitled Folder/AAandHis.csv\", row.names = FALSE)\n"
      ],
      "execution_count": null,
      "outputs": []
    }
  ]
}